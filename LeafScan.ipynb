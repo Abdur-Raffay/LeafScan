{
  "cells": [
    {
      "attachments": {},
      "cell_type": "markdown",
      "metadata": {
        "id": "P32fSNk2FbpJ"
      },
      "source": [
        "### Leaf Scan"
      ]
    },
    {
      "cell_type": "markdown",
      "metadata": {
        "id": "7Ad9kRI0FYSu"
      },
      "source": [
        "Welcome to LeafScan, the app that revolutionizes the way you identify plants and leaves. With our cutting-edge machine learning and computer vision technology, you can now easily scan and identify any plant leaf with just a few taps on your mobile device. Whether you are a nature enthusiast, a gardener, or a scientist, LeafScan is your ultimate tool for identifying plant species and learning more about the natural world around you. Our app provides detailed information for about 25+ plant, including its scientific name, common name, habitat, and growing conditions, as well as high-quality images to help you visualize the plant and its features. With LeafScan, you can explore the diversity of plant life around you, expand your knowledge, and connect with nature in a whole new way. Download LeafScan today and start discovering the wonders of the plant world!"
      ]
    },
    {
      "cell_type": "markdown",
      "metadata": {
        "id": "p6Pi09BVEAW0"
      },
      "source": [
        "### Importing the dependecies"
      ]
    },
    {
      "cell_type": "code",
      "execution_count": 1,
      "metadata": {
        "id": "_8kXGYOLOlDF"
      },
      "outputs": [
        {
          "name": "stderr",
          "output_type": "stream",
          "text": [
            "2023-05-20 10:18:23.127605: I tensorflow/core/platform/cpu_feature_guard.cc:182] This TensorFlow binary is optimized to use available CPU instructions in performance-critical operations.\n",
            "To enable the following instructions: AVX2 FMA, in other operations, rebuild TensorFlow with the appropriate compiler flags.\n"
          ]
        }
      ],
      "source": [
        "import os\n",
        "from os import listdir\n",
        "import numpy as np\n",
        "import cv2\n",
        "import pickle\n",
        "from tensorflow.keras.utils import img_to_array\n",
        "from keras.preprocessing.image import ImageDataGenerator\n",
        "from sklearn.preprocessing import LabelBinarizer\n",
        "from sklearn.model_selection import train_test_split\n",
        "from sklearn.preprocessing import LabelEncoder\n",
        "from PIL import Image\n",
        "from keras.models import Sequential\n",
        "from tensorflow.keras.layers import BatchNormalization\n",
        "from keras.layers.convolutional import Conv2D\n",
        "from keras.layers.convolutional import MaxPooling2D\n",
        "from keras.layers.core import Activation, Flatten, Dropout, Dense\n",
        "from keras import backend as K\n",
        "import matplotlib.pyplot as plt\n",
        "from keras.optimizers import Adam"
      ]
    },
    {
      "cell_type": "markdown",
      "metadata": {
        "id": "J6agc0Afmi0x"
      },
      "source": [
        "### Data Augmentation"
      ]
    },
    {
      "cell_type": "code",
      "execution_count": null,
      "metadata": {
        "id": "d1uHzcZPmmMz"
      },
      "outputs": [],
      "source": [
        "#Image Data Generator to get augmented pictures\n",
        "datagen = ImageDataGenerator(\n",
        "        rotation_range=90,\n",
        "        width_shift_range=0.2,\n",
        "        height_shift_range=0.2,\n",
        "        shear_range=0.2,\n",
        "        zoom_range=0.1,\n",
        "        horizontal_flip=True,\n",
        "        fill_mode='nearest')\n",
        "\n",
        "\n",
        "#Augmenting all the plants pictures\n",
        "\n",
        "aug_directory = \"/Users/apple/Desktop/Leaves/Apple\"\n",
        "images = listdir(aug_directory)\n",
        "\n",
        "for image in images:\n",
        "    i = 0\n",
        "    image_directory = f\"{aug_directory}/{image}\"\n",
        "    x = convert_image_to_array(image_directory)\n",
        "    x = x.reshape((1,) + x.shape)\n",
        "    for batch in datagen.flow(x,save_to_dir=\"/content/drive/MyDrive/Leaves/Apple\", save_format='jpg'):\n",
        "        i += 1\n",
        "        if i > 1:\n",
        "          break"
      ]
    },
    {
      "cell_type": "markdown",
      "metadata": {
        "id": "BGl2HTopsdLr"
      },
      "source": [
        "### Fetching Images from Directory"
      ]
    },
    {
      "cell_type": "code",
      "execution_count": 2,
      "metadata": {
        "id": "2_a9lEtyvtVd"
      },
      "outputs": [],
      "source": [
        "def convert_image_to_array(image_dir):\n",
        "    try:\n",
        "        image = cv2.imread(image_dir)\n",
        "        if image is not None :\n",
        "            image = cv2.resize(image, (264,264))   \n",
        "            return img_to_array(image)\n",
        "        else :\n",
        "            return np.array([])\n",
        "    except Exception as e:\n",
        "        print(f\"Error : {e}\")\n",
        "        return None\n",
        "  "
      ]
    },
    {
      "cell_type": "code",
      "execution_count": 3,
      "metadata": {
        "id": "arHj0hF_YT4y"
      },
      "outputs": [],
      "source": [
        "image_list, label_list = [], []"
      ]
    },
    {
      "cell_type": "code",
      "execution_count": 7,
      "metadata": {
        "colab": {
          "base_uri": "https://localhost:8080/"
        },
        "id": "8Bc7j0scsPFq",
        "outputId": "f75d6eed-8058-4ffc-e5d6-61ef2eea249e"
      },
      "outputs": [
        {
          "name": "stdout",
          "output_type": "stream",
          "text": [
            "[INFO] Image loading completed\n"
          ]
        }
      ],
      "source": [
        "directory_root = \"/Users/apple/Desktop/MC Project/Leaves\"\n",
        "try:\n",
        "    root_dir = listdir(directory_root)\n",
        "    for directory in root_dir:\n",
        "        # remove .DS_Store from list\n",
        "        if directory == \".DS_Store\" :\n",
        "            root_dir.remove(directory)\n",
        "\n",
        "    for plant_folder in root_dir:          #Loading pictures in chunks due to session crashing\n",
        "        plant_names_list = listdir(f\"{directory_root}/{plant_folder}\")\n",
        "                \n",
        "        for single_plant_image in plant_names_list :\n",
        "            if single_plant_image == \".DS_Store\" :\n",
        "                plant_names_list.remove(single_plant_image)\n",
        "\n",
        "        for image in plant_names_list:\n",
        "            image_directory = f\"{directory_root}/{plant_folder}/{image}\"\n",
        "            if image_directory.endswith(\".jpg\") == True or image_directory.endswith(\".JPG\") == True:\n",
        "                image_list.append(convert_image_to_array(image_directory))\n",
        "                label_list.append(plant_folder)\n",
        "    print(\"[INFO] Image loading completed\")  \n",
        "except Exception as e:\n",
        "    print(f\"Error : {e}\")"
      ]
    },
    {
      "cell_type": "markdown",
      "metadata": {
        "id": "xygR54mgBmvy"
      },
      "source": [
        "### Transforming the Labels"
      ]
    },
    {
      "cell_type": "code",
      "execution_count": 8,
      "metadata": {
        "id": "dDoqpnJOBpbO"
      },
      "outputs": [
        {
          "name": "stdout",
          "output_type": "stream",
          "text": [
            "Transformed Label:  [0 0 0 0 0 0 0 0 0 0 0 0 0 0 0 0 0 0 0 0 0 0 0 0 0 0 1 0]\n",
            "Images Shape:  (264, 264, 3)\n"
          ]
        }
      ],
      "source": [
        "binarizer = LabelBinarizer()\n",
        "label_list = binarizer.fit_transform(label_list)\n",
        "\n",
        "# Save the label binarizer to a file\n",
        "with open('label_binarizer.pkl', 'wb') as f:\n",
        "    pickle.dump(binarizer, f)\n",
        "\n",
        "print(\"Transformed Label: \",label_list[7765])\n",
        "\n",
        "print(\"Images Shape: \",image_list[0].shape)"
      ]
    },
    {
      "cell_type": "code",
      "execution_count": 9,
      "metadata": {},
      "outputs": [
        {
          "name": "stdout",
          "output_type": "stream",
          "text": [
            "['Apple' 'Arjun' 'Banana' 'Basil' 'Cherry' 'Chinar' 'Chinkapin oak'\n",
            " 'Coffee' 'Corn' 'Cucumber' 'Gauva' 'Grapes' 'Japanese Maple' 'Java Plum'\n",
            " 'Lemon' 'Mango' 'Peach' 'Persian Silk Tree' 'Pomegranate' 'Potato'\n",
            " 'Red Buckeye' 'Rice' 'Soybean' 'Strawberry' 'Sugi' 'Tea' 'Tomato' 'Wheat']\n",
            "8164\n",
            "8164\n"
          ]
        }
      ],
      "source": [
        "print(binarizer.classes_)\n",
        "print(len(image_list))\n",
        "print(len(label_list))"
      ]
    },
    {
      "cell_type": "code",
      "execution_count": 26,
      "metadata": {
        "colab": {
          "base_uri": "https://localhost:8080/"
        },
        "id": "nvfm64ObECdo",
        "outputId": "e4db562d-bef2-4135-98b4-917eddf6895a"
      },
      "outputs": [
        {
          "ename": "KeyboardInterrupt",
          "evalue": "",
          "output_type": "error",
          "traceback": [
            "\u001b[0;31m---------------------------------------------------------------------------\u001b[0m",
            "\u001b[0;31mKeyboardInterrupt\u001b[0m                         Traceback (most recent call last)",
            "Cell \u001b[0;32mIn[26], line 1\u001b[0m\n\u001b[0;32m----> 1\u001b[0m np_image_list \u001b[39m=\u001b[39m np\u001b[39m.\u001b[39;49marray(image_list, dtype\u001b[39m=\u001b[39;49mnp\u001b[39m.\u001b[39;49mfloat16) \u001b[39m/\u001b[39m \u001b[39m225.0\u001b[39m\n\u001b[1;32m      2\u001b[0m \u001b[39mprint\u001b[39m(np_image_list[\u001b[39m0\u001b[39m]\u001b[39m.\u001b[39mshape())\n",
            "\u001b[0;31mKeyboardInterrupt\u001b[0m: "
          ]
        }
      ],
      "source": [
        "np_image_list = np.array(image_list, dtype=np.float16) / 225.0"
      ]
    },
    {
      "cell_type": "markdown",
      "metadata": {
        "id": "ZrRKTtvGI6nv"
      },
      "source": [
        "### Splitting the Dataset"
      ]
    },
    {
      "cell_type": "code",
      "execution_count": 11,
      "metadata": {
        "id": "gq14orw8I-Mh"
      },
      "outputs": [],
      "source": [
        "x_train, x_test, y_train, y_test = train_test_split(np_image_list, label_list, test_size=0.2, random_state = 42)"
      ]
    },
    {
      "cell_type": "markdown",
      "metadata": {
        "id": "FAAlS4-rDgVf"
      },
      "source": [
        "### Modelling\n"
      ]
    },
    {
      "cell_type": "code",
      "execution_count": 12,
      "metadata": {
        "id": "xJX5aOeaIyxI"
      },
      "outputs": [],
      "source": [
        "depth = 3\n",
        "height,width = 264,264\n",
        "inputshape = (264,264,3)\n",
        "n_classes = 28\n",
        "chanDim = -1\n",
        "if K.image_data_format() == \"channels_first\":\n",
        "    inputShape = (depth, height, width)\n",
        "    chanDim = 1\n",
        "\n",
        "model = Sequential()\n",
        "\n",
        "\n",
        "model.add(Conv2D(32, (3, 3), padding=\"same\",input_shape=inputshape))\n",
        "model.add(Activation(\"relu\"))\n",
        "model.add(BatchNormalization(axis=chanDim))\n",
        "model.add(MaxPooling2D(pool_size=(3, 3)))\n",
        "model.add(Dropout(0.25))\n",
        "model.add(Conv2D(64, (3, 3), padding=\"same\"))\n",
        "model.add(Activation(\"relu\"))\n",
        "model.add(BatchNormalization(axis=chanDim))\n",
        "model.add(Conv2D(64, (3, 3), padding=\"same\"))\n",
        "model.add(Activation(\"relu\"))\n",
        "model.add(BatchNormalization(axis=chanDim))\n",
        "model.add(MaxPooling2D(pool_size=(2, 2)))\n",
        "model.add(Dropout(0.25))\n",
        "model.add(Conv2D(128, (3, 3), padding=\"same\"))\n",
        "model.add(Activation(\"relu\"))\n",
        "model.add(BatchNormalization(axis=chanDim))\n",
        "model.add(Conv2D(128, (3, 3), padding=\"same\"))\n",
        "model.add(Activation(\"relu\"))\n",
        "model.add(BatchNormalization(axis=chanDim))\n",
        "model.add(MaxPooling2D(pool_size=(2, 2)))\n",
        "model.add(Dropout(0.25))\n",
        "model.add(Flatten())\n",
        "model.add(Dense(1024))\n",
        "model.add(Activation(\"relu\"))\n",
        "model.add(BatchNormalization())\n",
        "model.add(Dropout(0.5))\n",
        "model.add(Dense(n_classes))\n",
        "model.add(Activation(\"softmax\"))"
      ]
    },
    {
      "cell_type": "code",
      "execution_count": 13,
      "metadata": {},
      "outputs": [
        {
          "name": "stdout",
          "output_type": "stream",
          "text": [
            "Model: \"sequential\"\n",
            "_________________________________________________________________\n",
            " Layer (type)                Output Shape              Param #   \n",
            "=================================================================\n",
            " conv2d (Conv2D)             (None, 264, 264, 32)      896       \n",
            "                                                                 \n",
            " activation (Activation)     (None, 264, 264, 32)      0         \n",
            "                                                                 \n",
            " batch_normalization (BatchN  (None, 264, 264, 32)     128       \n",
            " ormalization)                                                   \n",
            "                                                                 \n",
            " max_pooling2d (MaxPooling2D  (None, 88, 88, 32)       0         \n",
            " )                                                               \n",
            "                                                                 \n",
            " dropout (Dropout)           (None, 88, 88, 32)        0         \n",
            "                                                                 \n",
            " conv2d_1 (Conv2D)           (None, 88, 88, 64)        18496     \n",
            "                                                                 \n",
            " activation_1 (Activation)   (None, 88, 88, 64)        0         \n",
            "                                                                 \n",
            " batch_normalization_1 (Batc  (None, 88, 88, 64)       256       \n",
            " hNormalization)                                                 \n",
            "                                                                 \n",
            " conv2d_2 (Conv2D)           (None, 88, 88, 64)        36928     \n",
            "                                                                 \n",
            " activation_2 (Activation)   (None, 88, 88, 64)        0         \n",
            "                                                                 \n",
            " batch_normalization_2 (Batc  (None, 88, 88, 64)       256       \n",
            " hNormalization)                                                 \n",
            "                                                                 \n",
            " max_pooling2d_1 (MaxPooling  (None, 44, 44, 64)       0         \n",
            " 2D)                                                             \n",
            "                                                                 \n",
            " dropout_1 (Dropout)         (None, 44, 44, 64)        0         \n",
            "                                                                 \n",
            " conv2d_3 (Conv2D)           (None, 44, 44, 128)       73856     \n",
            "                                                                 \n",
            " activation_3 (Activation)   (None, 44, 44, 128)       0         \n",
            "                                                                 \n",
            " batch_normalization_3 (Batc  (None, 44, 44, 128)      512       \n",
            " hNormalization)                                                 \n",
            "                                                                 \n",
            " conv2d_4 (Conv2D)           (None, 44, 44, 128)       147584    \n",
            "                                                                 \n",
            " activation_4 (Activation)   (None, 44, 44, 128)       0         \n",
            "                                                                 \n",
            " batch_normalization_4 (Batc  (None, 44, 44, 128)      512       \n",
            " hNormalization)                                                 \n",
            "                                                                 \n",
            " max_pooling2d_2 (MaxPooling  (None, 22, 22, 128)      0         \n",
            " 2D)                                                             \n",
            "                                                                 \n",
            " dropout_2 (Dropout)         (None, 22, 22, 128)       0         \n",
            "                                                                 \n",
            " flatten (Flatten)           (None, 61952)             0         \n",
            "                                                                 \n",
            " dense (Dense)               (None, 1024)              63439872  \n",
            "                                                                 \n",
            " activation_5 (Activation)   (None, 1024)              0         \n",
            "                                                                 \n",
            " batch_normalization_5 (Batc  (None, 1024)             4096      \n",
            " hNormalization)                                                 \n",
            "                                                                 \n",
            " dropout_3 (Dropout)         (None, 1024)              0         \n",
            "                                                                 \n",
            " dense_1 (Dense)             (None, 28)                28700     \n",
            "                                                                 \n",
            " activation_6 (Activation)   (None, 28)                0         \n",
            "                                                                 \n",
            "=================================================================\n",
            "Total params: 63,752,092\n",
            "Trainable params: 63,749,212\n",
            "Non-trainable params: 2,880\n",
            "_________________________________________________________________\n"
          ]
        }
      ],
      "source": [
        "model.summary()"
      ]
    },
    {
      "cell_type": "code",
      "execution_count": 14,
      "metadata": {},
      "outputs": [
        {
          "name": "stdout",
          "output_type": "stream",
          "text": [
            "[INFO] training network...\n"
          ]
        },
        {
          "name": "stderr",
          "output_type": "stream",
          "text": [
            "/Library/Frameworks/Python.framework/Versions/3.11/lib/python3.11/site-packages/keras/optimizers/legacy/adam.py:117: UserWarning: The `lr` argument is deprecated, use `learning_rate` instead.\n",
            "  super().__init__(name, **kwargs)\n"
          ]
        }
      ],
      "source": [
        "INIT_LR = 1e-3\n",
        "opt = Adam(lr=INIT_LR, decay=INIT_LR / 25)\n",
        "model.compile(loss=\"binary_crossentropy\", optimizer=opt,metrics=[\"accuracy\"])\n",
        "print(\"[INFO] training network...\")"
      ]
    },
    {
      "cell_type": "code",
      "execution_count": 15,
      "metadata": {},
      "outputs": [
        {
          "name": "stdout",
          "output_type": "stream",
          "text": [
            "Epoch 1/20\n",
            "205/205 [==============================] - 872s 4s/step - loss: 0.3282 - accuracy: 0.2978 - val_loss: 0.3646 - val_accuracy: 0.0686\n",
            "Epoch 2/20\n",
            "205/205 [==============================] - 921s 4s/step - loss: 0.1116 - accuracy: 0.5240 - val_loss: 0.2306 - val_accuracy: 0.2143\n",
            "Epoch 3/20\n",
            "205/205 [==============================] - 976s 5s/step - loss: 0.0692 - accuracy: 0.7293 - val_loss: 0.1153 - val_accuracy: 0.5946\n",
            "Epoch 4/20\n",
            "205/205 [==============================] - 993s 5s/step - loss: 0.0512 - accuracy: 0.7967 - val_loss: 0.0607 - val_accuracy: 0.7214\n",
            "Epoch 5/20\n",
            "205/205 [==============================] - 974s 5s/step - loss: 0.0467 - accuracy: 0.8140 - val_loss: 0.1032 - val_accuracy: 0.5052\n",
            "Epoch 6/20\n",
            "205/205 [==============================] - 961s 5s/step - loss: 0.0447 - accuracy: 0.8271 - val_loss: 0.1003 - val_accuracy: 0.5432\n",
            "Epoch 7/20\n",
            "205/205 [==============================] - 965s 5s/step - loss: 0.0494 - accuracy: 0.7922 - val_loss: 0.0959 - val_accuracy: 0.5426\n",
            "Epoch 8/20\n",
            "205/205 [==============================] - 972s 5s/step - loss: 0.0577 - accuracy: 0.7412 - val_loss: 0.0607 - val_accuracy: 0.6834\n",
            "Epoch 9/20\n",
            "205/205 [==============================] - 976s 5s/step - loss: 0.0341 - accuracy: 0.8630 - val_loss: 0.0401 - val_accuracy: 0.8285\n",
            "Epoch 10/20\n",
            "205/205 [==============================] - 989s 5s/step - loss: 0.0313 - accuracy: 0.8749 - val_loss: 0.0570 - val_accuracy: 0.7312\n",
            "Epoch 11/20\n",
            "205/205 [==============================] - 1064s 5s/step - loss: 0.0235 - accuracy: 0.9175 - val_loss: 0.0630 - val_accuracy: 0.7152\n",
            "Epoch 12/20\n",
            "205/205 [==============================] - 1086s 5s/step - loss: 0.0212 - accuracy: 0.9245 - val_loss: 0.0293 - val_accuracy: 0.8665\n",
            "Epoch 13/20\n",
            "205/205 [==============================] - 1276s 6s/step - loss: 0.0187 - accuracy: 0.9348 - val_loss: 0.0502 - val_accuracy: 0.7710\n",
            "Epoch 14/20\n",
            "205/205 [==============================] - 1312s 6s/step - loss: 0.0166 - accuracy: 0.9444 - val_loss: 0.0196 - val_accuracy: 0.9130\n",
            "Epoch 15/20\n",
            "205/205 [==============================] - 1365s 7s/step - loss: 0.0149 - accuracy: 0.9522 - val_loss: 0.0430 - val_accuracy: 0.7991\n",
            "Epoch 16/20\n",
            "205/205 [==============================] - 1183s 6s/step - loss: 0.0126 - accuracy: 0.9639 - val_loss: 0.0275 - val_accuracy: 0.8708\n",
            "Epoch 17/20\n",
            "205/205 [==============================] - 1020s 5s/step - loss: 0.0120 - accuracy: 0.9622 - val_loss: 0.0265 - val_accuracy: 0.8781\n",
            "Epoch 18/20\n",
            "205/205 [==============================] - 1008s 5s/step - loss: 0.0114 - accuracy: 0.9674 - val_loss: 0.0291 - val_accuracy: 0.8739\n",
            "Epoch 19/20\n",
            "205/205 [==============================] - 1021s 5s/step - loss: 0.0114 - accuracy: 0.9655 - val_loss: 0.0192 - val_accuracy: 0.9179\n",
            "Epoch 20/20\n",
            "205/205 [==============================] - 1042s 5s/step - loss: 0.0084 - accuracy: 0.9786 - val_loss: 0.0187 - val_accuracy: 0.9265\n"
          ]
        }
      ],
      "source": [
        "history = model.fit(\n",
        "    \n",
        "    x_train, y_train,\n",
        "    validation_data=(x_test, y_test),\n",
        "    epochs=20, verbose=1\n",
        "    )"
      ]
    },
    {
      "cell_type": "code",
      "execution_count": 16,
      "metadata": {},
      "outputs": [
        {
          "data": {
            "image/png": "[encoded data removed]",
            "text/plain": [
              "<Figure size 640x480 with 1 Axes>"
            ]
          },
          "metadata": {},
          "output_type": "display_data"
        },
        {
          "data": {
            "image/png": "[encoded data removed]",
            "text/plain": [
              "<Figure size 640x480 with 1 Axes>"
            ]
          },
          "metadata": {},
          "output_type": "display_data"
        }
      ],
      "source": [
        "acc = history.history['accuracy']\n",
        "val_acc = history.history['val_accuracy']\n",
        "loss = history.history['loss']\n",
        "val_loss = history.history['val_loss']\n",
        "epochs = range(1, len(acc) + 1)\n",
        "#Train and validation accuracy\n",
        "plt.plot(epochs, acc, 'b', label='Training accurarcy')\n",
        "plt.plot(epochs, val_acc, 'r', label='Validation accurarcy')\n",
        "plt.title('Training and Validation accurarcy')\n",
        "plt.legend()\n",
        "\n",
        "plt.figure()\n",
        "#Train and validation loss\n",
        "plt.plot(epochs, loss, 'b', label='Training loss')\n",
        "plt.plot(epochs, val_loss, 'r', label='Validation loss')\n",
        "plt.title('Training and Validation loss')\n",
        "plt.legend()\n",
        "plt.show()\n",
        "\n"
      ]
    },
    {
      "cell_type": "code",
      "execution_count": 17,
      "metadata": {},
      "outputs": [
        {
          "name": "stdout",
          "output_type": "stream",
          "text": [
            "Model Accuracy\n",
            "52/52 [==============================] - 47s 888ms/step - loss: 0.0187 - accuracy: 0.9265\n",
            "Test Accuracy: 92.65156388282776\n"
          ]
        }
      ],
      "source": [
        "print(\"Model Accuracy\")\n",
        "scores = model.evaluate(x_test, y_test)\n",
        "print(f\"Test Accuracy: {scores[1]*100}\")"
      ]
    },
    {
      "cell_type": "markdown",
      "metadata": {},
      "source": [
        "Accuracy is 92%"
      ]
    },
    {
      "cell_type": "code",
      "execution_count": 25,
      "metadata": {},
      "outputs": [],
      "source": [
        "with open('label_binarizer.pkl', 'wb') as f:\n",
        "    pickle.dump(binarizer, f)"
      ]
    },
    {
      "cell_type": "code",
      "execution_count": 24,
      "metadata": {},
      "outputs": [],
      "source": [
        "model.save(\"cnn.h5\")"
      ]
    },
    {
      "cell_type": "code",
      "execution_count": null,
      "metadata": {},
      "outputs": [],
      "source": [
        "def prepare_picture(img):\n",
        "    try:\n",
        "        image = cv2.imread(image_dir)\n",
        "        if image is not None :\n",
        "            image = cv2.resize(image, (264,264))   \n",
        "            return img_to_array(image)\n",
        "        else :\n",
        "            return np.array([])\n",
        "    except Exception as e:\n",
        "        print(f\"Error : {e}\")\n",
        "        return None     "
      ]
    }
  ],
  "metadata": {
    "accelerator": "GPU",
    "colab": {
      "gpuType": "T4",
      "provenance": []
    },
    "gpuClass": "standard",
    "kernelspec": {
      "display_name": "Python 3",
      "name": "python3"
    },
    "language_info": {
      "codemirror_mode": {
        "name": "ipython",
        "version": 3
      },
      "file_extension": ".py",
      "mimetype": "text/x-python",
      "name": "python",
      "nbconvert_exporter": "python",
      "pygments_lexer": "ipython3",
      "version": "3.11.2"
    }
  },
  "nbformat": 4,
  "nbformat_minor": 0
}
